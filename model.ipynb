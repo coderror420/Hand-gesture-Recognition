{
 "cells": [
  {
   "cell_type": "code",
   "id": "initial_id",
   "metadata": {
    "collapsed": true,
    "ExecuteTime": {
     "end_time": "2025-10-05T13:15:02.456034Z",
     "start_time": "2025-10-05T13:15:02.446280Z"
    }
   },
   "source": [
    "import pandas as pd\n",
    "import numpy as np\n",
    "import matplotlib.pyplot as plt\n",
    "import cv2\n",
    "from sklearn.model_selection import train_test_split\n",
    "from sklearn.preprocessing import LabelEncoder\n",
    "import tensorflow as tf\n",
    "from tensorflow.keras.models import Model, Sequential\n",
    "from tensorflow.keras.layers import Input, Dense, Flatten, Conv2D, MaxPooling2D, Dropout, concatenate\n",
    "from tensorflow.keras.optimizers import Adam\n",
    "from tensorflow.keras.utils import to_categorical\n",
    "from sklearn.preprocessing import StandardScaler\n",
    "from tensorflow.keras.callbacks import EarlyStopping\n",
    "import joblib\n",
    "\n",
    "from tensorflow.python.ops.gen_nn_ops import conv2d\n"
   ],
   "outputs": [],
   "execution_count": 34
  },
  {
   "metadata": {
    "ExecuteTime": {
     "end_time": "2025-10-05T12:19:31.588988Z",
     "start_time": "2025-10-05T12:19:31.569756Z"
    }
   },
   "cell_type": "code",
   "source": "df = pd.read_csv('D:\\Hand Gesture\\hand_gestures.csv')",
   "id": "9cb902910ca3466e",
   "outputs": [],
   "execution_count": 2
  },
  {
   "metadata": {
    "ExecuteTime": {
     "end_time": "2025-10-05T12:19:31.623489Z",
     "start_time": "2025-10-05T12:19:31.597382Z"
    }
   },
   "cell_type": "code",
   "source": "df.head()",
   "id": "6522dc1839c90bbb",
   "outputs": [
    {
     "data": {
      "text/plain": [
       "       label                      image_path        x0        y0  \\\n",
       "0  open palm  dataset\\images\\open palm_1.jpg  0.256909  0.674479   \n",
       "1  open palm  dataset\\images\\open palm_2.jpg  0.267407  0.668640   \n",
       "2  open palm  dataset\\images\\open palm_3.jpg  0.278813  0.665061   \n",
       "3  open palm  dataset\\images\\open palm_4.jpg  0.284100  0.651824   \n",
       "4  open palm  dataset\\images\\open palm_5.jpg  0.285429  0.644625   \n",
       "\n",
       "             z0        x1        y1        z1        x2        y2  ...  \\\n",
       "0  5.446344e-07  0.315704  0.629290 -0.033463  0.361203  0.538470  ...   \n",
       "1  5.630786e-07  0.327819  0.626409 -0.035874  0.373232  0.538166  ...   \n",
       "2  5.856877e-07  0.338139  0.624086 -0.033628  0.384026  0.537519  ...   \n",
       "3  5.974576e-07  0.344148  0.615036 -0.036292  0.392779  0.532755  ...   \n",
       "4  6.083113e-07  0.345301  0.609107 -0.038600  0.393774  0.527432  ...   \n",
       "\n",
       "        z17       x18       y18       z18       x19       y19       z19  \\\n",
       "0 -0.033056  0.168942  0.394263 -0.050735  0.157012  0.351300 -0.057290   \n",
       "1 -0.034811  0.180098  0.390020 -0.053411  0.168077  0.346109 -0.060224   \n",
       "2 -0.035512  0.188901  0.387094 -0.053817  0.175854  0.341730 -0.061083   \n",
       "3 -0.036450  0.199438  0.378956 -0.055679  0.186524  0.333490 -0.063011   \n",
       "4 -0.035727  0.201354  0.375278 -0.055390  0.188593  0.330486 -0.063157   \n",
       "\n",
       "        x20       y20       z20  \n",
       "0  0.148280  0.307641 -0.060667  \n",
       "1  0.159705  0.302423 -0.063535  \n",
       "2  0.167391  0.296090 -0.064785  \n",
       "3  0.177936  0.287704 -0.066614  \n",
       "4  0.180218  0.285168 -0.067056  \n",
       "\n",
       "[5 rows x 65 columns]"
      ],
      "text/html": [
       "<div>\n",
       "<style scoped>\n",
       "    .dataframe tbody tr th:only-of-type {\n",
       "        vertical-align: middle;\n",
       "    }\n",
       "\n",
       "    .dataframe tbody tr th {\n",
       "        vertical-align: top;\n",
       "    }\n",
       "\n",
       "    .dataframe thead th {\n",
       "        text-align: right;\n",
       "    }\n",
       "</style>\n",
       "<table border=\"1\" class=\"dataframe\">\n",
       "  <thead>\n",
       "    <tr style=\"text-align: right;\">\n",
       "      <th></th>\n",
       "      <th>label</th>\n",
       "      <th>image_path</th>\n",
       "      <th>x0</th>\n",
       "      <th>y0</th>\n",
       "      <th>z0</th>\n",
       "      <th>x1</th>\n",
       "      <th>y1</th>\n",
       "      <th>z1</th>\n",
       "      <th>x2</th>\n",
       "      <th>y2</th>\n",
       "      <th>...</th>\n",
       "      <th>z17</th>\n",
       "      <th>x18</th>\n",
       "      <th>y18</th>\n",
       "      <th>z18</th>\n",
       "      <th>x19</th>\n",
       "      <th>y19</th>\n",
       "      <th>z19</th>\n",
       "      <th>x20</th>\n",
       "      <th>y20</th>\n",
       "      <th>z20</th>\n",
       "    </tr>\n",
       "  </thead>\n",
       "  <tbody>\n",
       "    <tr>\n",
       "      <th>0</th>\n",
       "      <td>open palm</td>\n",
       "      <td>dataset\\images\\open palm_1.jpg</td>\n",
       "      <td>0.256909</td>\n",
       "      <td>0.674479</td>\n",
       "      <td>5.446344e-07</td>\n",
       "      <td>0.315704</td>\n",
       "      <td>0.629290</td>\n",
       "      <td>-0.033463</td>\n",
       "      <td>0.361203</td>\n",
       "      <td>0.538470</td>\n",
       "      <td>...</td>\n",
       "      <td>-0.033056</td>\n",
       "      <td>0.168942</td>\n",
       "      <td>0.394263</td>\n",
       "      <td>-0.050735</td>\n",
       "      <td>0.157012</td>\n",
       "      <td>0.351300</td>\n",
       "      <td>-0.057290</td>\n",
       "      <td>0.148280</td>\n",
       "      <td>0.307641</td>\n",
       "      <td>-0.060667</td>\n",
       "    </tr>\n",
       "    <tr>\n",
       "      <th>1</th>\n",
       "      <td>open palm</td>\n",
       "      <td>dataset\\images\\open palm_2.jpg</td>\n",
       "      <td>0.267407</td>\n",
       "      <td>0.668640</td>\n",
       "      <td>5.630786e-07</td>\n",
       "      <td>0.327819</td>\n",
       "      <td>0.626409</td>\n",
       "      <td>-0.035874</td>\n",
       "      <td>0.373232</td>\n",
       "      <td>0.538166</td>\n",
       "      <td>...</td>\n",
       "      <td>-0.034811</td>\n",
       "      <td>0.180098</td>\n",
       "      <td>0.390020</td>\n",
       "      <td>-0.053411</td>\n",
       "      <td>0.168077</td>\n",
       "      <td>0.346109</td>\n",
       "      <td>-0.060224</td>\n",
       "      <td>0.159705</td>\n",
       "      <td>0.302423</td>\n",
       "      <td>-0.063535</td>\n",
       "    </tr>\n",
       "    <tr>\n",
       "      <th>2</th>\n",
       "      <td>open palm</td>\n",
       "      <td>dataset\\images\\open palm_3.jpg</td>\n",
       "      <td>0.278813</td>\n",
       "      <td>0.665061</td>\n",
       "      <td>5.856877e-07</td>\n",
       "      <td>0.338139</td>\n",
       "      <td>0.624086</td>\n",
       "      <td>-0.033628</td>\n",
       "      <td>0.384026</td>\n",
       "      <td>0.537519</td>\n",
       "      <td>...</td>\n",
       "      <td>-0.035512</td>\n",
       "      <td>0.188901</td>\n",
       "      <td>0.387094</td>\n",
       "      <td>-0.053817</td>\n",
       "      <td>0.175854</td>\n",
       "      <td>0.341730</td>\n",
       "      <td>-0.061083</td>\n",
       "      <td>0.167391</td>\n",
       "      <td>0.296090</td>\n",
       "      <td>-0.064785</td>\n",
       "    </tr>\n",
       "    <tr>\n",
       "      <th>3</th>\n",
       "      <td>open palm</td>\n",
       "      <td>dataset\\images\\open palm_4.jpg</td>\n",
       "      <td>0.284100</td>\n",
       "      <td>0.651824</td>\n",
       "      <td>5.974576e-07</td>\n",
       "      <td>0.344148</td>\n",
       "      <td>0.615036</td>\n",
       "      <td>-0.036292</td>\n",
       "      <td>0.392779</td>\n",
       "      <td>0.532755</td>\n",
       "      <td>...</td>\n",
       "      <td>-0.036450</td>\n",
       "      <td>0.199438</td>\n",
       "      <td>0.378956</td>\n",
       "      <td>-0.055679</td>\n",
       "      <td>0.186524</td>\n",
       "      <td>0.333490</td>\n",
       "      <td>-0.063011</td>\n",
       "      <td>0.177936</td>\n",
       "      <td>0.287704</td>\n",
       "      <td>-0.066614</td>\n",
       "    </tr>\n",
       "    <tr>\n",
       "      <th>4</th>\n",
       "      <td>open palm</td>\n",
       "      <td>dataset\\images\\open palm_5.jpg</td>\n",
       "      <td>0.285429</td>\n",
       "      <td>0.644625</td>\n",
       "      <td>6.083113e-07</td>\n",
       "      <td>0.345301</td>\n",
       "      <td>0.609107</td>\n",
       "      <td>-0.038600</td>\n",
       "      <td>0.393774</td>\n",
       "      <td>0.527432</td>\n",
       "      <td>...</td>\n",
       "      <td>-0.035727</td>\n",
       "      <td>0.201354</td>\n",
       "      <td>0.375278</td>\n",
       "      <td>-0.055390</td>\n",
       "      <td>0.188593</td>\n",
       "      <td>0.330486</td>\n",
       "      <td>-0.063157</td>\n",
       "      <td>0.180218</td>\n",
       "      <td>0.285168</td>\n",
       "      <td>-0.067056</td>\n",
       "    </tr>\n",
       "  </tbody>\n",
       "</table>\n",
       "<p>5 rows × 65 columns</p>\n",
       "</div>"
      ]
     },
     "execution_count": 3,
     "metadata": {},
     "output_type": "execute_result"
    }
   ],
   "execution_count": 3
  },
  {
   "metadata": {
    "ExecuteTime": {
     "end_time": "2025-10-05T12:19:31.647394Z",
     "start_time": "2025-10-05T12:19:31.642114Z"
    }
   },
   "cell_type": "code",
   "source": [
    "X = df[\"image_path\"]\n",
    "y = df[\"label\"]\n",
    "X_landmarks = df.drop(['label','image_path'],axis=1).values.astype(np.float32)"
   ],
   "id": "427965ebfde349a7",
   "outputs": [],
   "execution_count": 4
  },
  {
   "metadata": {
    "ExecuteTime": {
     "end_time": "2025-10-05T12:19:31.660028Z",
     "start_time": "2025-10-05T12:19:31.653033Z"
    }
   },
   "cell_type": "code",
   "source": [
    "def load_image(path):\n",
    "    img = cv2.imread(path)\n",
    "    img = cv2.cvtColor(img,cv2.COLOR_BGR2RGB)\n",
    "    img = img/255.0\n",
    "    return img"
   ],
   "id": "aed85fdd610ec87d",
   "outputs": [],
   "execution_count": 5
  },
  {
   "metadata": {
    "ExecuteTime": {
     "end_time": "2025-10-05T12:19:31.673461Z",
     "start_time": "2025-10-05T12:19:31.669081Z"
    }
   },
   "cell_type": "code",
   "source": [
    "def create_cnn(input_shape=(256,256,3)):\n",
    "    model = Sequential(\n",
    "        [   Input(shape=input_shape),\n",
    "            Conv2D(32,(3,3),activation='relu'),\n",
    "            MaxPooling2D(pool_size=(2,2)),\n",
    "            Conv2D(64,(3,3),activation='relu'),\n",
    "            MaxPooling2D(pool_size=(2,2)),\n",
    "            Conv2D(128,(3,3),activation='relu'),\n",
    "            MaxPooling2D(pool_size=(2,2)),\n",
    "            Flatten(),\n",
    "        ]\n",
    "    )\n",
    "\n",
    "    return model\n"
   ],
   "id": "565d1ab758d738f1",
   "outputs": [],
   "execution_count": 6
  },
  {
   "metadata": {
    "ExecuteTime": {
     "end_time": "2025-10-05T13:24:16.504161Z",
     "start_time": "2025-10-05T13:24:16.488815Z"
    }
   },
   "cell_type": "code",
   "source": [
    " # --- Encode labels ---\n",
    "le = LabelEncoder()\n",
    "y_int = le.fit_transform(y)  # integer encode\n",
    "num_classes = len(le.classes_)\n",
    "y_cat = to_categorical(y_int, num_classes=num_classes)\n",
    "joblib.dump(le,'le.pkl')"
   ],
   "id": "a9e8dfc90dc9d162",
   "outputs": [
    {
     "data": {
      "text/plain": [
       "['le.pkl']"
      ]
     },
     "execution_count": 42,
     "metadata": {},
     "output_type": "execute_result"
    }
   ],
   "execution_count": 42
  },
  {
   "metadata": {
    "ExecuteTime": {
     "end_time": "2025-10-05T13:24:14.525865Z",
     "start_time": "2025-10-05T13:24:14.505950Z"
    }
   },
   "cell_type": "code",
   "source": "le.classes_",
   "id": "b82453b5674a9508",
   "outputs": [
    {
     "data": {
      "text/plain": [
       "array(['OK', 'down', 'fist', 'index', 'left', 'middle finger',\n",
       "       'open palm', 'right', 'up'], dtype=object)"
      ]
     },
     "execution_count": 41,
     "metadata": {},
     "output_type": "execute_result"
    }
   ],
   "execution_count": 41
  },
  {
   "metadata": {
    "ExecuteTime": {
     "end_time": "2025-10-05T12:19:31.699755Z",
     "start_time": "2025-10-05T12:19:31.687936Z"
    }
   },
   "cell_type": "code",
   "source": [
    "# --- Train/Test split ---\n",
    "x_train, x_test, lm_train, lm_test, y_train, y_test = train_test_split(\n",
    "        X, X_landmarks, y_cat, test_size=0.2, stratify=y_cat, random_state=0\n",
    "    )\n"
   ],
   "id": "1bbd10254c49bba3",
   "outputs": [],
   "execution_count": 8
  },
  {
   "metadata": {
    "ExecuteTime": {
     "end_time": "2025-10-05T12:19:31.983309Z",
     "start_time": "2025-10-05T12:19:31.704774Z"
    }
   },
   "cell_type": "code",
   "source": [
    " # --- Load images ---\n",
    "x_train_img = np.array([load_image(p) for p in x_train])\n",
    "x_test_img = np.array([load_image(p) for p in x_test])"
   ],
   "id": "e40387b38dddf3f8",
   "outputs": [],
   "execution_count": 9
  },
  {
   "metadata": {
    "ExecuteTime": {
     "end_time": "2025-10-05T13:15:50.760367Z",
     "start_time": "2025-10-05T13:15:50.735430Z"
    }
   },
   "cell_type": "code",
   "source": [
    "# --- Scale landmarks ---\n",
    "scaler = StandardScaler()\n",
    "X_landmarks_train = scaler.fit_transform(lm_train)\n",
    "X_landmarks_test = scaler.transform(lm_test)\n",
    "joblib.dump(scaler, \"scaler.pkl\")"
   ],
   "id": "c79720d8f4cee3c3",
   "outputs": [
    {
     "data": {
      "text/plain": [
       "['scaler.pkl']"
      ]
     },
     "execution_count": 38,
     "metadata": {},
     "output_type": "execute_result"
    }
   ],
   "execution_count": 38
  },
  {
   "metadata": {
    "ExecuteTime": {
     "end_time": "2025-10-05T13:15:36.784349Z",
     "start_time": "2025-10-05T13:15:36.772297Z"
    }
   },
   "cell_type": "code",
   "source": [
    "def create_model(x_train,x_test,X_landmarks_train,X_landmarks_test, y_Cat, epochs, batch_size):\n",
    "    # --- CNN + ANN ---\n",
    "    image_ip = Input(shape=(256,256,3))\n",
    "    cnn_model = create_cnn()               # returns Flattened CNN\n",
    "    cnn_features = cnn_model(image_ip)\n",
    "    landmark_input = Input(shape=(X_landmarks.shape[1],))\n",
    "    combined_input = concatenate([cnn_features, landmark_input])\n",
    "\n",
    "    y_out = Dense(128, activation='relu')(combined_input)\n",
    "    y_out = Dropout(0.3)(y_out)\n",
    "    y_out = Dense(64, activation='relu')(y_out)\n",
    "    y_out = Dense(num_classes, activation='softmax')(y_out)\n",
    "\n",
    "    model = Model(inputs=[image_ip, landmark_input], outputs=y_out)\n",
    "    model.compile(optimizer=Adam(0.001), loss='categorical_crossentropy', metrics=['accuracy'])\n",
    "    # #early stopping\n",
    "    # early_stop = EarlyStopping(\n",
    "    #     monitor='accuracy',      # which metric to monitor\n",
    "    #     patience=5,              # stop after 5 epochs of no improvement\n",
    "    #     restore_best_weights=True,  # restore model weights from the epoch with best value of monitored metric\n",
    "    #     verbose=1\n",
    "    # )\n",
    "    # --- Train ---\n",
    "    history = model.fit(\n",
    "        [x_train_img, X_landmarks_train],\n",
    "        y_train,\n",
    "        validation_data=([x_test_img, X_landmarks_test], y_test),\n",
    "        epochs=epochs,\n",
    "        batch_size=batch_size,\n",
    "        # callbacks=[early_stop]\n",
    "\n",
    "    )\n",
    "\n",
    "    return model, history  # return encoder in case you need it for decoding predictions\n"
   ],
   "id": "c600ea263db9a48f",
   "outputs": [],
   "execution_count": 37
  },
  {
   "metadata": {
    "ExecuteTime": {
     "end_time": "2025-10-05T12:33:47.637442Z",
     "start_time": "2025-10-05T12:30:02.181154Z"
    }
   },
   "cell_type": "code",
   "source": "model,history = create_model(x_train,x_test,X_landmarks_train,X_landmarks_test,y_cat,17,1)\n",
   "id": "d7b09c6c5d25baf8",
   "outputs": [
    {
     "name": "stdout",
     "output_type": "stream",
     "text": [
      "Epoch 1/17\n",
      "\u001B[1m154/154\u001B[0m \u001B[32m━━━━━━━━━━━━━━━━━━━━\u001B[0m\u001B[37m\u001B[0m \u001B[1m18s\u001B[0m 106ms/step - accuracy: 0.3896 - loss: 1.8507 - val_accuracy: 0.6154 - val_loss: 1.1756\n",
      "Epoch 2/17\n",
      "\u001B[1m154/154\u001B[0m \u001B[32m━━━━━━━━━━━━━━━━━━━━\u001B[0m\u001B[37m\u001B[0m \u001B[1m16s\u001B[0m 101ms/step - accuracy: 0.7922 - loss: 0.5859 - val_accuracy: 0.8462 - val_loss: 0.3733\n",
      "Epoch 3/17\n",
      "\u001B[1m154/154\u001B[0m \u001B[32m━━━━━━━━━━━━━━━━━━━━\u001B[0m\u001B[37m\u001B[0m \u001B[1m15s\u001B[0m 94ms/step - accuracy: 0.9221 - loss: 0.2574 - val_accuracy: 0.9231 - val_loss: 0.2300\n",
      "Epoch 4/17\n",
      "\u001B[1m154/154\u001B[0m \u001B[32m━━━━━━━━━━━━━━━━━━━━\u001B[0m\u001B[37m\u001B[0m \u001B[1m13s\u001B[0m 84ms/step - accuracy: 0.9481 - loss: 0.1701 - val_accuracy: 0.9744 - val_loss: 0.0659\n",
      "Epoch 5/17\n",
      "\u001B[1m154/154\u001B[0m \u001B[32m━━━━━━━━━━━━━━━━━━━━\u001B[0m\u001B[37m\u001B[0m \u001B[1m13s\u001B[0m 82ms/step - accuracy: 0.9740 - loss: 0.0630 - val_accuracy: 0.9487 - val_loss: 0.1365\n",
      "Epoch 6/17\n",
      "\u001B[1m154/154\u001B[0m \u001B[32m━━━━━━━━━━━━━━━━━━━━\u001B[0m\u001B[37m\u001B[0m \u001B[1m13s\u001B[0m 82ms/step - accuracy: 0.9610 - loss: 0.1001 - val_accuracy: 0.8974 - val_loss: 0.3291\n",
      "Epoch 7/17\n",
      "\u001B[1m154/154\u001B[0m \u001B[32m━━━━━━━━━━━━━━━━━━━━\u001B[0m\u001B[37m\u001B[0m \u001B[1m12s\u001B[0m 78ms/step - accuracy: 0.9675 - loss: 0.0875 - val_accuracy: 0.9487 - val_loss: 0.0712\n",
      "Epoch 8/17\n",
      "\u001B[1m154/154\u001B[0m \u001B[32m━━━━━━━━━━━━━━━━━━━━\u001B[0m\u001B[37m\u001B[0m \u001B[1m12s\u001B[0m 79ms/step - accuracy: 0.9870 - loss: 0.0252 - val_accuracy: 0.9487 - val_loss: 0.2194\n",
      "Epoch 9/17\n",
      "\u001B[1m154/154\u001B[0m \u001B[32m━━━━━━━━━━━━━━━━━━━━\u001B[0m\u001B[37m\u001B[0m \u001B[1m12s\u001B[0m 80ms/step - accuracy: 0.9935 - loss: 0.0386 - val_accuracy: 1.0000 - val_loss: 0.0399\n",
      "Epoch 10/17\n",
      "\u001B[1m154/154\u001B[0m \u001B[32m━━━━━━━━━━━━━━━━━━━━\u001B[0m\u001B[37m\u001B[0m \u001B[1m13s\u001B[0m 82ms/step - accuracy: 0.9935 - loss: 0.0156 - val_accuracy: 1.0000 - val_loss: 0.0274\n",
      "Epoch 11/17\n",
      "\u001B[1m154/154\u001B[0m \u001B[32m━━━━━━━━━━━━━━━━━━━━\u001B[0m\u001B[37m\u001B[0m \u001B[1m13s\u001B[0m 81ms/step - accuracy: 1.0000 - loss: 0.0046 - val_accuracy: 1.0000 - val_loss: 0.0135\n",
      "Epoch 12/17\n",
      "\u001B[1m154/154\u001B[0m \u001B[32m━━━━━━━━━━━━━━━━━━━━\u001B[0m\u001B[37m\u001B[0m \u001B[1m12s\u001B[0m 80ms/step - accuracy: 0.9675 - loss: 0.1274 - val_accuracy: 1.0000 - val_loss: 0.0227\n",
      "Epoch 13/17\n",
      "\u001B[1m154/154\u001B[0m \u001B[32m━━━━━━━━━━━━━━━━━━━━\u001B[0m\u001B[37m\u001B[0m \u001B[1m13s\u001B[0m 82ms/step - accuracy: 0.9805 - loss: 0.0544 - val_accuracy: 0.9231 - val_loss: 0.3235\n",
      "Epoch 14/17\n",
      "\u001B[1m154/154\u001B[0m \u001B[32m━━━━━━━━━━━━━━━━━━━━\u001B[0m\u001B[37m\u001B[0m \u001B[1m13s\u001B[0m 82ms/step - accuracy: 0.9805 - loss: 0.0966 - val_accuracy: 1.0000 - val_loss: 0.0150\n",
      "Epoch 15/17\n",
      "\u001B[1m154/154\u001B[0m \u001B[32m━━━━━━━━━━━━━━━━━━━━\u001B[0m\u001B[37m\u001B[0m \u001B[1m13s\u001B[0m 83ms/step - accuracy: 1.0000 - loss: 0.0106 - val_accuracy: 1.0000 - val_loss: 0.0035\n",
      "Epoch 16/17\n",
      "\u001B[1m154/154\u001B[0m \u001B[32m━━━━━━━━━━━━━━━━━━━━\u001B[0m\u001B[37m\u001B[0m \u001B[1m13s\u001B[0m 84ms/step - accuracy: 1.0000 - loss: 0.0065 - val_accuracy: 1.0000 - val_loss: 0.0038\n",
      "Epoch 17/17\n",
      "\u001B[1m154/154\u001B[0m \u001B[32m━━━━━━━━━━━━━━━━━━━━\u001B[0m\u001B[37m\u001B[0m \u001B[1m13s\u001B[0m 87ms/step - accuracy: 1.0000 - loss: 0.0021 - val_accuracy: 1.0000 - val_loss: 0.0025\n"
     ]
    }
   ],
   "execution_count": 17
  },
  {
   "metadata": {
    "ExecuteTime": {
     "end_time": "2025-10-05T12:36:10.343178Z",
     "start_time": "2025-10-05T12:36:10.198987Z"
    }
   },
   "cell_type": "code",
   "source": [
    "plt.figure(figsize=(12,5))\n",
    "plt.subplot(1,2,1)\n",
    "plt.plot(history.history['accuracy'], label='train accuracy')\n",
    "plt.plot(history.history['val_accuracy'], label='val accuracy')\n",
    "plt.title('Model Accuracy')\n",
    "plt.xlabel('Epoch')\n",
    "plt.ylabel('Accuracy')\n",
    "plt.legend()\n",
    "plt.grid(True)\n",
    "\n",
    "    # --- Loss ---\n"
   ],
   "id": "a2da9e50d1dff5b1",
   "outputs": [
    {
     "data": {
      "text/plain": [
       "<Figure size 1200x500 with 1 Axes>"
      ],
      "image/png": "[encoded data removed]"
     },
     "metadata": {},
     "output_type": "display_data"
    }
   ],
   "execution_count": 18
  },
  {
   "metadata": {
    "ExecuteTime": {
     "end_time": "2025-10-05T12:36:12.819472Z",
     "start_time": "2025-10-05T12:36:12.703108Z"
    }
   },
   "cell_type": "code",
   "source": [
    "plt.subplot(1,2,2)\n",
    "plt.plot(history.history['loss'], label='train loss')\n",
    "plt.title('Model Loss')\n",
    "plt.plot(history.history['val_loss'], label='val loss')\n",
    "plt.xlabel('Epoch')\n",
    "plt.ylabel('Loss')\n",
    "plt.legend()\n",
    "plt.grid(True)\n",
    "\n",
    "plt.show()\n",
    "  # le.# for idx, class_name in enumerate(le.classes_):\n",
    "#     print(f\"{class_name} → {idx}\")"
   ],
   "id": "7c61e6e14fd7cc03",
   "outputs": [
    {
     "data": {
      "text/plain": [
       "<Figure size 640x480 with 1 Axes>"
      ],
      "image/png": "[encoded data removed]"
     },
     "metadata": {},
     "output_type": "display_data"
    }
   ],
   "execution_count": 19
  },
  {
   "metadata": {
    "ExecuteTime": {
     "end_time": "2025-10-05T12:36:32.793738Z",
     "start_time": "2025-10-05T12:36:31.935152Z"
    }
   },
   "cell_type": "code",
   "source": "model.evaluate([x_test_img,X_landmarks_test],y_test)",
   "id": "62c910449747415c",
   "outputs": [
    {
     "name": "stdout",
     "output_type": "stream",
     "text": [
      "\u001B[1m2/2\u001B[0m \u001B[32m━━━━━━━━━━━━━━━━━━━━\u001B[0m\u001B[37m\u001B[0m \u001B[1m1s\u001B[0m 78ms/step - accuracy: 1.0000 - loss: 0.0025\n"
     ]
    },
    {
     "data": {
      "text/plain": [
       "[0.0024777257349342108, 1.0]"
      ]
     },
     "execution_count": 20,
     "metadata": {},
     "output_type": "execute_result"
    }
   ],
   "execution_count": 20
  },
  {
   "metadata": {
    "ExecuteTime": {
     "end_time": "2025-10-05T12:39:01.295404Z",
     "start_time": "2025-10-05T12:39:00.547516Z"
    }
   },
   "cell_type": "code",
   "source": "model.save('hand-gesture-model.keras')",
   "id": "883028bc46b5636f",
   "outputs": [],
   "execution_count": 24
  },
  {
   "metadata": {
    "ExecuteTime": {
     "end_time": "2025-10-05T12:48:48.192201Z",
     "start_time": "2025-10-05T12:48:47.735988Z"
    }
   },
   "cell_type": "code",
   "source": [
    "img = np.expand_dims(x_test_img[0], axis=0)        # (1, 256, 256, 3)\n",
    "lm  = np.expand_dims(X_landmarks_test[0], axis=0)  # (1, 63)\n",
    "\n",
    "pred_idx = np.argmax(model.predict([img, lm]), axis=1)\n",
    "pred_label = le.inverse_transform(pred_idx)[0]\n",
    "\n",
    "print(\"Predicted:\", pred_label)"
   ],
   "id": "285522a8b394477d",
   "outputs": [
    {
     "name": "stdout",
     "output_type": "stream",
     "text": [
      "\u001B[1m1/1\u001B[0m \u001B[32m━━━━━━━━━━━━━━━━━━━━\u001B[0m\u001B[37m\u001B[0m \u001B[1m0s\u001B[0m 319ms/step\n",
      "Predicted: fist\n"
     ]
    }
   ],
   "execution_count": 31
  },
  {
   "metadata": {},
   "cell_type": "code",
   "outputs": [],
   "execution_count": null,
   "source": "",
   "id": "b378dd7e3f3e3fe4"
  }
 ],
 "metadata": {
  "kernelspec": {
   "display_name": "Python 3",
   "language": "python",
   "name": "python3"
  },
  "language_info": {
   "codemirror_mode": {
    "name": "ipython",
    "version": 2
   },
   "file_extension": ".py",
   "mimetype": "text/x-python",
   "name": "python",
   "nbconvert_exporter": "python",
   "pygments_lexer": "ipython2",
   "version": "2.7.6"
  }
 },
 "nbformat": 4,
 "nbformat_minor": 5
}
